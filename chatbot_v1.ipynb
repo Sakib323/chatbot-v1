{
 "cells": [
  {
   "cell_type": "code",
   "execution_count": null,
   "id": "b2e831e7",
   "metadata": {},
   "outputs": [],
   "source": [
    "import json\n",
    "import random\n",
    "import pickle\n",
    "import numpy as np\n",
    "import pandas as pd\n",
    "import nltk\n",
    "from nltk.stem import WordNetLemmatizer\n",
    "from tensorflow.keras.models import load_model\n"
   ]
  },
  {
   "cell_type": "code",
   "execution_count": null,
   "id": "25e3e42b",
   "metadata": {},
   "outputs": [],
   "source": [
    "lemmatzer=WordNetLemmatizer()\n",
    "\n",
    "#loading the data we have previously saved through creating model \n",
    "\n",
    "intensts=json.loads(open('C:/Users/Sakib Ahmed/Desktop/chatbot v1 qna.json').read())\n",
    "words=pickle.load(open('words.pkl','rb'))\n",
    "classes=pickle.load(open('classes.pkl','rb'))\n",
    "\n",
    "#loading model that we have created and saved\n",
    "model=load_model('chatbot_model_v1.model')"
   ]
  },
  {
   "cell_type": "code",
   "execution_count": null,
   "id": "7826eba5",
   "metadata": {},
   "outputs": [],
   "source": [
    "#tokenizing and lemmatizing the sentence here\n",
    "def clean_up_sentence(sentence):\n",
    "    sentence_word=nltk.word_tokenize(sentence)\n",
    "    sentence_word=[lemmatizer.lemmatize(sentence)for sentence in sentence_word]\n",
    "    return sentence_word"
   ]
  },
  {
   "cell_type": "code",
   "execution_count": null,
   "id": "a9a550e7",
   "metadata": {},
   "outputs": [],
   "source": [
    "#encoding those categorical data to numerical data\n",
    "def bag_of_words(sentence):\n",
    "    sentence_word=clean_up_sentence(sentence)\n",
    "    bag=[0]*len(words)\n",
    "    for w in sentence_words:\n",
    "        for i,word in enumerate(words):\n",
    "            if(word==w):\n",
    "                bag[i]=1\n",
    "    return np.array(bag)            "
   ]
  },
  {
   "cell_type": "code",
   "execution_count": null,
   "id": "a3cc3b00",
   "metadata": {},
   "outputs": [],
   "source": [
    "def predict_class(sentence):\n",
    "    bow=bag_of_words(sentence)\n",
    "    res=model.predict(np.array([bow]))[0]\n",
    "    ERROR_THRESHOLD=0.25\n",
    "    #if data is grater then threshold then it will be added \n",
    "    results=[[i,r] for i,r in enumerate(res) if r>ERROR_THRESHOLD]\n",
    "    #sorting list through assending or dessinging order for highest probability among 100 percent\n",
    "    results.sort(key=lambda x: x[1],reverse=True)\n",
    "    return_list=[]\n",
    "    for r in results:\n",
    "        return_list.append({'intent':classes[r[0]],'probability':str(r[1])})\n",
    "    return return_list    "
   ]
  },
  {
   "cell_type": "code",
   "execution_count": null,
   "id": "671e82ac",
   "metadata": {},
   "outputs": [],
   "source": [
    "while True:\n",
    "    message=input(\"\")\n",
    "    ints=predict_class(message)\n",
    "    res=get_responce(ints,intents)\n",
    "    print(res)"
   ]
  }
 ],
 "metadata": {
  "kernelspec": {
   "display_name": "Python 3 (ipykernel)",
   "language": "python",
   "name": "python3"
  },
  "language_info": {
   "codemirror_mode": {
    "name": "ipython",
    "version": 3
   },
   "file_extension": ".py",
   "mimetype": "text/x-python",
   "name": "python",
   "nbconvert_exporter": "python",
   "pygments_lexer": "ipython3",
   "version": "3.9.12"
  }
 },
 "nbformat": 4,
 "nbformat_minor": 5
}
